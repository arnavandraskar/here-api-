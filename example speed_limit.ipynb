{
 "cells": [
  {
   "cell_type": "code",
   "execution_count": 1,
   "id": "5dc12a0a",
   "metadata": {},
   "outputs": [],
   "source": [
    "from custom_api import speed_limit"
   ]
  },
  {
   "cell_type": "code",
   "execution_count": 2,
   "id": "597b6bbe",
   "metadata": {},
   "outputs": [],
   "source": [
    "api_key = \"<xxx>\"\n",
    "route  = speed_limit(api_key = api_key)"
   ]
  },
  {
   "cell_type": "code",
   "execution_count": 4,
   "id": "5133a734",
   "metadata": {},
   "outputs": [
    {
     "data": {
      "text/plain": [
       "90"
      ]
     },
     "execution_count": 4,
     "metadata": {},
     "output_type": "execute_result"
    }
   ],
   "source": [
    "route.get_speed_limit(lat = 1.3933367, long =  103.83041)"
   ]
  }
 ],
 "metadata": {
  "kernelspec": {
   "display_name": "Python 3",
   "language": "python",
   "name": "python3"
  },
  "language_info": {
   "codemirror_mode": {
    "name": "ipython",
    "version": 3
   },
   "file_extension": ".py",
   "mimetype": "text/x-python",
   "name": "python",
   "nbconvert_exporter": "python",
   "pygments_lexer": "ipython3",
   "version": "3.6.5"
  }
 },
 "nbformat": 4,
 "nbformat_minor": 5
}
